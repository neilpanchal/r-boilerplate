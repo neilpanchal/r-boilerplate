{
 "cells": [
  {
   "cell_type": "code",
   "execution_count": null,
   "metadata": {
    "collapsed": true
   },
   "outputs": [],
   "source": [
    "# Author: Neil Panchal\n",
    "# Date: \n",
    "# Project:\n",
    "# Description:"
   ]
  },
  {
   "cell_type": "code",
   "execution_count": null,
   "metadata": {},
   "outputs": [],
   "source": [
    "# System information\n",
    "sessionInfo()\n",
    "options(warn=-1)\n",
    "\n",
    "# Import libraries\n",
    "suppressMessages(library(extrafont))\n",
    "suppressMessages(library(tidyverse))\n",
    "suppressMessages(library(forcats))\n",
    "suppressMessages(library(viridis))\n",
    "\n",
    "# Plotting Options\n",
    "options(repr.plot.width=6, repr.plot.height=4)\n",
    "options(repr.plot.res=300, repr.plot.pointsize=12)\n",
    "options(jupyter.plot_mimetypes = \"image/png\")\n",
    "\n",
    "# ggplot theme\n",
    "\n",
    "library(ggthemr)\n",
    "ggthemr_reset()\n",
    "ggpalette <- define_palette(\n",
    "    swatch = structure(c(\n",
    "        '#fdf6e3', \n",
    "        '#207DE8', '#1ABC9C',\n",
    "        '#E3CA09', '#DB46BE', \n",
    "        '#B3CF00', '#E63535',\n",
    "        '#9959EB', '#EB9A02')),\n",
    "    gradient = c(low = '#f1c40f', high = '#c0392b')\n",
    ")\n",
    "ggcolors <- ggthemr(ggpalette, set_theme = FALSE)\n",
    "\n",
    "ggzero <- function(base_size = 11, base_family = \"CMU Typewriter Text\") {\n",
    "    # Starts with theme_bw and remove most parts\n",
    "    theme_minimal(base_size = base_size, base_family = base_family) + \n",
    "    theme(\n",
    "        # aspect.ratio = 3/4,  \n",
    "        # black text and ticks on the axes\n",
    "        axis.text        = element_text(colour = \"black\", size = rel(0.75)),\n",
    "        axis.ticks       = element_line(colour = \"black\", size = 0.25),\n",
    "        # pure black panel border and grid lines, but thinner\n",
    "        panel.border     = element_rect(fill = NA, colour = \"black\", size = 0.50),\n",
    "        panel.grid.major = element_line(colour=\"gray60\", size = 0.15, linetype=\"11\"),\n",
    "        panel.grid.minor = element_line(colour=\"gray80\", size = 0.10, linetype=\"11\"),\n",
    "        # strips style\n",
    "        strip.background = element_blank(),\n",
    "        strip.text       = element_text(colour = \"black\", size = rel(0.8125)),\n",
    "        complete = TRUE\n",
    "    )\n",
    "}\n",
    "\n",
    "# Set theme for session\n",
    "theme_set(ggzero())\n",
    "\n",
    "# Set colors for this session\n",
    "ggplot <- function(...) ggplot2::ggplot(...) + \n",
    "    ggcolors$scale$scale_colour_discrete() + \n",
    "    ggcolors$scale$scale_fill_discrete()"
   ]
  },
  {
   "cell_type": "code",
   "execution_count": null,
   "metadata": {},
   "outputs": [],
   "source": [
    "# Sample Plot (Color)\n",
    "ggplot(data = mpg) +\n",
    "    geom_point(mapping = aes(x = displ, y = hwy, color = class), size=2)"
   ]
  },
  {
   "cell_type": "code",
   "execution_count": null,
   "metadata": {},
   "outputs": [],
   "source": [
    "# Sample plot (Color + Fill)\n",
    "ggplot(data = mpg) + \n",
    "    geom_smooth(mapping = aes(x = displ, y = hwy, fill = drv, colour = drv), size = 0.625, alpha=0.25)"
   ]
  },
  {
   "cell_type": "code",
   "execution_count": null,
   "metadata": {
    "collapsed": true
   },
   "outputs": [],
   "source": []
  }
 ],
 "metadata": {
  "kernelspec": {
   "display_name": "R",
   "language": "R",
   "name": "ir"
  },
  "language_info": {
   "codemirror_mode": "r",
   "file_extension": ".r",
   "mimetype": "text/x-r-source",
   "name": "R",
   "pygments_lexer": "r",
   "version": "3.3.3"
  }
 },
 "nbformat": 4,
 "nbformat_minor": 2
}
